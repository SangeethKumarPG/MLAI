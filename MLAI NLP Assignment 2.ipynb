{
 "cells": [
  {
   "cell_type": "code",
   "execution_count": 1,
   "id": "c83e2da0",
   "metadata": {},
   "outputs": [],
   "source": [
    "import pandas as pd\n",
    "import numpy as np"
   ]
  },
  {
   "cell_type": "markdown",
   "id": "ca0d4cde",
   "metadata": {},
   "source": [
    "Reading the data"
   ]
  },
  {
   "cell_type": "code",
   "execution_count": 28,
   "id": "3f870e35",
   "metadata": {},
   "outputs": [
    {
     "data": {
      "text/html": [
       "<div>\n",
       "<style scoped>\n",
       "    .dataframe tbody tr th:only-of-type {\n",
       "        vertical-align: middle;\n",
       "    }\n",
       "\n",
       "    .dataframe tbody tr th {\n",
       "        vertical-align: top;\n",
       "    }\n",
       "\n",
       "    .dataframe thead th {\n",
       "        text-align: right;\n",
       "    }\n",
       "</style>\n",
       "<table border=\"1\" class=\"dataframe\">\n",
       "  <thead>\n",
       "    <tr style=\"text-align: right;\">\n",
       "      <th></th>\n",
       "      <th>tweet_text</th>\n",
       "      <th>emotion_in_tweet_is_directed_at</th>\n",
       "      <th>is_there_an_emotion_directed_at_a_brand_or_product</th>\n",
       "    </tr>\n",
       "  </thead>\n",
       "  <tbody>\n",
       "    <tr>\n",
       "      <th>0</th>\n",
       "      <td>.@wesley83 I have a 3G iPhone. After 3 hrs twe...</td>\n",
       "      <td>iPhone</td>\n",
       "      <td>Negative emotion</td>\n",
       "    </tr>\n",
       "    <tr>\n",
       "      <th>1</th>\n",
       "      <td>@jessedee Know about @fludapp ? Awesome iPad/i...</td>\n",
       "      <td>iPad or iPhone App</td>\n",
       "      <td>Positive emotion</td>\n",
       "    </tr>\n",
       "    <tr>\n",
       "      <th>2</th>\n",
       "      <td>@swonderlin Can not wait for #iPad 2 also. The...</td>\n",
       "      <td>iPad</td>\n",
       "      <td>Positive emotion</td>\n",
       "    </tr>\n",
       "    <tr>\n",
       "      <th>3</th>\n",
       "      <td>@sxsw I hope this year's festival isn't as cra...</td>\n",
       "      <td>iPad or iPhone App</td>\n",
       "      <td>Negative emotion</td>\n",
       "    </tr>\n",
       "    <tr>\n",
       "      <th>4</th>\n",
       "      <td>@sxtxstate great stuff on Fri #SXSW: Marissa M...</td>\n",
       "      <td>Google</td>\n",
       "      <td>Positive emotion</td>\n",
       "    </tr>\n",
       "  </tbody>\n",
       "</table>\n",
       "</div>"
      ],
      "text/plain": [
       "                                          tweet_text  \\\n",
       "0  .@wesley83 I have a 3G iPhone. After 3 hrs twe...   \n",
       "1  @jessedee Know about @fludapp ? Awesome iPad/i...   \n",
       "2  @swonderlin Can not wait for #iPad 2 also. The...   \n",
       "3  @sxsw I hope this year's festival isn't as cra...   \n",
       "4  @sxtxstate great stuff on Fri #SXSW: Marissa M...   \n",
       "\n",
       "  emotion_in_tweet_is_directed_at  \\\n",
       "0                          iPhone   \n",
       "1              iPad or iPhone App   \n",
       "2                            iPad   \n",
       "3              iPad or iPhone App   \n",
       "4                          Google   \n",
       "\n",
       "  is_there_an_emotion_directed_at_a_brand_or_product  \n",
       "0                                   Negative emotion  \n",
       "1                                   Positive emotion  \n",
       "2                                   Positive emotion  \n",
       "3                                   Negative emotion  \n",
       "4                                   Positive emotion  "
      ]
     },
     "execution_count": 28,
     "metadata": {},
     "output_type": "execute_result"
    }
   ],
   "source": [
    "data = pd.read_csv('Data/judge-1377884607_tweet_product_company.csv', encoding='ISO-8859-1')\n",
    "data.head()"
   ]
  },
  {
   "cell_type": "code",
   "execution_count": 29,
   "id": "ae5bd4e0",
   "metadata": {},
   "outputs": [
    {
     "data": {
      "text/plain": [
       "Index(['tweet_text', 'emotion_in_tweet_is_directed_at',\n",
       "       'is_there_an_emotion_directed_at_a_brand_or_product'],\n",
       "      dtype='object')"
      ]
     },
     "execution_count": 29,
     "metadata": {},
     "output_type": "execute_result"
    }
   ],
   "source": [
    "data.columns"
   ]
  },
  {
   "cell_type": "code",
   "execution_count": 30,
   "id": "1166767c",
   "metadata": {},
   "outputs": [
    {
     "data": {
      "text/plain": [
       "array(['Negative emotion', 'Positive emotion',\n",
       "       'No emotion toward brand or product', \"I can't tell\"], dtype=object)"
      ]
     },
     "execution_count": 30,
     "metadata": {},
     "output_type": "execute_result"
    }
   ],
   "source": [
    "data.is_there_an_emotion_directed_at_a_brand_or_product.unique()"
   ]
  },
  {
   "cell_type": "code",
   "execution_count": 31,
   "id": "5aa6ba39",
   "metadata": {},
   "outputs": [
    {
     "data": {
      "text/html": [
       "<div>\n",
       "<style scoped>\n",
       "    .dataframe tbody tr th:only-of-type {\n",
       "        vertical-align: middle;\n",
       "    }\n",
       "\n",
       "    .dataframe tbody tr th {\n",
       "        vertical-align: top;\n",
       "    }\n",
       "\n",
       "    .dataframe thead th {\n",
       "        text-align: right;\n",
       "    }\n",
       "</style>\n",
       "<table border=\"1\" class=\"dataframe\">\n",
       "  <thead>\n",
       "    <tr style=\"text-align: right;\">\n",
       "      <th></th>\n",
       "      <th>tweet_text</th>\n",
       "      <th>emotion_in_tweet_is_directed_at</th>\n",
       "      <th>is_there_an_emotion_directed_at_a_brand_or_product</th>\n",
       "    </tr>\n",
       "  </thead>\n",
       "  <tbody>\n",
       "    <tr>\n",
       "      <th>0</th>\n",
       "      <td>.@wesley83 I have a 3G iPhone. After 3 hrs twe...</td>\n",
       "      <td>iPhone</td>\n",
       "      <td>Negative emotion</td>\n",
       "    </tr>\n",
       "    <tr>\n",
       "      <th>1</th>\n",
       "      <td>@jessedee Know about @fludapp ? Awesome iPad/i...</td>\n",
       "      <td>iPad or iPhone App</td>\n",
       "      <td>Positive emotion</td>\n",
       "    </tr>\n",
       "    <tr>\n",
       "      <th>2</th>\n",
       "      <td>@swonderlin Can not wait for #iPad 2 also. The...</td>\n",
       "      <td>iPad</td>\n",
       "      <td>Positive emotion</td>\n",
       "    </tr>\n",
       "    <tr>\n",
       "      <th>3</th>\n",
       "      <td>@sxsw I hope this year's festival isn't as cra...</td>\n",
       "      <td>iPad or iPhone App</td>\n",
       "      <td>Negative emotion</td>\n",
       "    </tr>\n",
       "    <tr>\n",
       "      <th>4</th>\n",
       "      <td>@sxtxstate great stuff on Fri #SXSW: Marissa M...</td>\n",
       "      <td>Google</td>\n",
       "      <td>Positive emotion</td>\n",
       "    </tr>\n",
       "    <tr>\n",
       "      <th>...</th>\n",
       "      <td>...</td>\n",
       "      <td>...</td>\n",
       "      <td>...</td>\n",
       "    </tr>\n",
       "    <tr>\n",
       "      <th>95</th>\n",
       "      <td>XMAS!! RT @mention Shiny new @mention @mention...</td>\n",
       "      <td>iPad</td>\n",
       "      <td>Positive emotion</td>\n",
       "    </tr>\n",
       "    <tr>\n",
       "      <th>96</th>\n",
       "      <td>Yai!!! RT @mention New #UberSocial for #iPhone...</td>\n",
       "      <td>iPhone</td>\n",
       "      <td>Positive emotion</td>\n",
       "    </tr>\n",
       "    <tr>\n",
       "      <th>97</th>\n",
       "      <td>Yes!!! RT @mention hey @mention , i've got ano...</td>\n",
       "      <td>NaN</td>\n",
       "      <td>No emotion toward brand or product</td>\n",
       "    </tr>\n",
       "    <tr>\n",
       "      <th>98</th>\n",
       "      <td>Fast, Fun &amp;amp; Future: @mention of Google pre...</td>\n",
       "      <td>Google</td>\n",
       "      <td>Positive emotion</td>\n",
       "    </tr>\n",
       "    <tr>\n",
       "      <th>99</th>\n",
       "      <td>GSD&amp;amp;M &amp;amp; Google's Industry Party Tonigh...</td>\n",
       "      <td>NaN</td>\n",
       "      <td>No emotion toward brand or product</td>\n",
       "    </tr>\n",
       "  </tbody>\n",
       "</table>\n",
       "<p>100 rows × 3 columns</p>\n",
       "</div>"
      ],
      "text/plain": [
       "                                           tweet_text  \\\n",
       "0   .@wesley83 I have a 3G iPhone. After 3 hrs twe...   \n",
       "1   @jessedee Know about @fludapp ? Awesome iPad/i...   \n",
       "2   @swonderlin Can not wait for #iPad 2 also. The...   \n",
       "3   @sxsw I hope this year's festival isn't as cra...   \n",
       "4   @sxtxstate great stuff on Fri #SXSW: Marissa M...   \n",
       "..                                                ...   \n",
       "95  XMAS!! RT @mention Shiny new @mention @mention...   \n",
       "96  Yai!!! RT @mention New #UberSocial for #iPhone...   \n",
       "97  Yes!!! RT @mention hey @mention , i've got ano...   \n",
       "98  Fast, Fun &amp; Future: @mention of Google pre...   \n",
       "99  GSD&amp;M &amp; Google's Industry Party Tonigh...   \n",
       "\n",
       "   emotion_in_tweet_is_directed_at  \\\n",
       "0                           iPhone   \n",
       "1               iPad or iPhone App   \n",
       "2                             iPad   \n",
       "3               iPad or iPhone App   \n",
       "4                           Google   \n",
       "..                             ...   \n",
       "95                            iPad   \n",
       "96                          iPhone   \n",
       "97                             NaN   \n",
       "98                          Google   \n",
       "99                             NaN   \n",
       "\n",
       "   is_there_an_emotion_directed_at_a_brand_or_product  \n",
       "0                                    Negative emotion  \n",
       "1                                    Positive emotion  \n",
       "2                                    Positive emotion  \n",
       "3                                    Negative emotion  \n",
       "4                                    Positive emotion  \n",
       "..                                                ...  \n",
       "95                                   Positive emotion  \n",
       "96                                   Positive emotion  \n",
       "97                 No emotion toward brand or product  \n",
       "98                                   Positive emotion  \n",
       "99                 No emotion toward brand or product  \n",
       "\n",
       "[100 rows x 3 columns]"
      ]
     },
     "execution_count": 31,
     "metadata": {},
     "output_type": "execute_result"
    }
   ],
   "source": [
    "data[:100]"
   ]
  },
  {
   "cell_type": "code",
   "execution_count": 32,
   "id": "d694b7b0",
   "metadata": {},
   "outputs": [],
   "source": [
    "#dropping unwanted column\n",
    "data.drop('emotion_in_tweet_is_directed_at',axis=1, inplace=True)"
   ]
  },
  {
   "cell_type": "code",
   "execution_count": 33,
   "id": "048cb99a",
   "metadata": {},
   "outputs": [
    {
     "data": {
      "text/html": [
       "<div>\n",
       "<style scoped>\n",
       "    .dataframe tbody tr th:only-of-type {\n",
       "        vertical-align: middle;\n",
       "    }\n",
       "\n",
       "    .dataframe tbody tr th {\n",
       "        vertical-align: top;\n",
       "    }\n",
       "\n",
       "    .dataframe thead th {\n",
       "        text-align: right;\n",
       "    }\n",
       "</style>\n",
       "<table border=\"1\" class=\"dataframe\">\n",
       "  <thead>\n",
       "    <tr style=\"text-align: right;\">\n",
       "      <th></th>\n",
       "      <th>tweet_text</th>\n",
       "      <th>is_there_an_emotion_directed_at_a_brand_or_product</th>\n",
       "    </tr>\n",
       "  </thead>\n",
       "  <tbody>\n",
       "    <tr>\n",
       "      <th>0</th>\n",
       "      <td>.@wesley83 I have a 3G iPhone. After 3 hrs twe...</td>\n",
       "      <td>Negative emotion</td>\n",
       "    </tr>\n",
       "    <tr>\n",
       "      <th>1</th>\n",
       "      <td>@jessedee Know about @fludapp ? Awesome iPad/i...</td>\n",
       "      <td>Positive emotion</td>\n",
       "    </tr>\n",
       "    <tr>\n",
       "      <th>2</th>\n",
       "      <td>@swonderlin Can not wait for #iPad 2 also. The...</td>\n",
       "      <td>Positive emotion</td>\n",
       "    </tr>\n",
       "    <tr>\n",
       "      <th>3</th>\n",
       "      <td>@sxsw I hope this year's festival isn't as cra...</td>\n",
       "      <td>Negative emotion</td>\n",
       "    </tr>\n",
       "    <tr>\n",
       "      <th>4</th>\n",
       "      <td>@sxtxstate great stuff on Fri #SXSW: Marissa M...</td>\n",
       "      <td>Positive emotion</td>\n",
       "    </tr>\n",
       "    <tr>\n",
       "      <th>...</th>\n",
       "      <td>...</td>\n",
       "      <td>...</td>\n",
       "    </tr>\n",
       "    <tr>\n",
       "      <th>9088</th>\n",
       "      <td>Ipad everywhere. #SXSW {link}</td>\n",
       "      <td>Positive emotion</td>\n",
       "    </tr>\n",
       "    <tr>\n",
       "      <th>9089</th>\n",
       "      <td>Wave, buzz... RT @mention We interrupt your re...</td>\n",
       "      <td>No emotion toward brand or product</td>\n",
       "    </tr>\n",
       "    <tr>\n",
       "      <th>9090</th>\n",
       "      <td>Google's Zeiger, a physician never reported po...</td>\n",
       "      <td>No emotion toward brand or product</td>\n",
       "    </tr>\n",
       "    <tr>\n",
       "      <th>9091</th>\n",
       "      <td>Some Verizon iPhone customers complained their...</td>\n",
       "      <td>No emotion toward brand or product</td>\n",
       "    </tr>\n",
       "    <tr>\n",
       "      <th>9092</th>\n",
       "      <td>Ï¡Ïàü_ÊÎÒ£Áââ_£â_ÛâRT @...</td>\n",
       "      <td>No emotion toward brand or product</td>\n",
       "    </tr>\n",
       "  </tbody>\n",
       "</table>\n",
       "<p>9093 rows × 2 columns</p>\n",
       "</div>"
      ],
      "text/plain": [
       "                                             tweet_text  \\\n",
       "0     .@wesley83 I have a 3G iPhone. After 3 hrs twe...   \n",
       "1     @jessedee Know about @fludapp ? Awesome iPad/i...   \n",
       "2     @swonderlin Can not wait for #iPad 2 also. The...   \n",
       "3     @sxsw I hope this year's festival isn't as cra...   \n",
       "4     @sxtxstate great stuff on Fri #SXSW: Marissa M...   \n",
       "...                                                 ...   \n",
       "9088                      Ipad everywhere. #SXSW {link}   \n",
       "9089  Wave, buzz... RT @mention We interrupt your re...   \n",
       "9090  Google's Zeiger, a physician never reported po...   \n",
       "9091  Some Verizon iPhone customers complained their...   \n",
       "9092  Ï¡Ïàü_ÊÎÒ£Áââ_£â_ÛâRT @...   \n",
       "\n",
       "     is_there_an_emotion_directed_at_a_brand_or_product  \n",
       "0                                      Negative emotion  \n",
       "1                                      Positive emotion  \n",
       "2                                      Positive emotion  \n",
       "3                                      Negative emotion  \n",
       "4                                      Positive emotion  \n",
       "...                                                 ...  \n",
       "9088                                   Positive emotion  \n",
       "9089                 No emotion toward brand or product  \n",
       "9090                 No emotion toward brand or product  \n",
       "9091                 No emotion toward brand or product  \n",
       "9092                 No emotion toward brand or product  \n",
       "\n",
       "[9093 rows x 2 columns]"
      ]
     },
     "execution_count": 33,
     "metadata": {},
     "output_type": "execute_result"
    }
   ],
   "source": [
    "data"
   ]
  },
  {
   "cell_type": "code",
   "execution_count": 34,
   "id": "601f17ae",
   "metadata": {},
   "outputs": [
    {
     "name": "stderr",
     "output_type": "stream",
     "text": [
      "[nltk_data] Downloading package punkt to\n",
      "[nltk_data]     /Users/sangeethkumarpg/nltk_data...\n",
      "[nltk_data]   Package punkt is already up-to-date!\n",
      "[nltk_data] Downloading package stopwords to\n",
      "[nltk_data]     /Users/sangeethkumarpg/nltk_data...\n",
      "[nltk_data]   Package stopwords is already up-to-date!\n",
      "[nltk_data] Downloading package wordnet to\n",
      "[nltk_data]     /Users/sangeethkumarpg/nltk_data...\n",
      "[nltk_data]   Package wordnet is already up-to-date!\n"
     ]
    }
   ],
   "source": [
    "#Preprocessing\n",
    "import string\n",
    "import re\n",
    "import nltk\n",
    "\n",
    "from nltk.stem import WordNetLemmatizer\n",
    "from nltk.corpus import stopwords\n",
    "from nltk.tokenize import word_tokenize\n",
    "\n",
    "nltk.download('punkt')\n",
    "nltk.download('stopwords')\n",
    "nltk.download('wordnet')\n",
    "\n",
    "wordnet_lem = WordNetLemmatizer()\n",
    "\n",
    "def remove_punctuation_of_text(text):\n",
    "    punctuation_free = ''.join([i for i in text if i not in string.punctuation])\n",
    "    no_links = re.sub(r'http\\S+', '', punctuation_free)\n",
    "    return no_links\n",
    "\n",
    "def tokenization(text):\n",
    "    cleaned_text = re.sub(r'[^a-zA-Z\\s]', '', text)\n",
    "    tokens = word_tokenize(cleaned_text)\n",
    "    return tokens\n",
    "\n",
    "stop_words = set(stopwords.words('english'))\n",
    "\n",
    "def remove_stop_words(text):\n",
    "    no_stop_words = [word for word in text if word.lower() not in stop_words]\n",
    "    return no_stop_words\n",
    "\n",
    "def lemmatized_text(text):\n",
    "    lemma = [wordnet_lem.lemmatize(word) for word in text]\n",
    "    return lemma\n",
    "\n",
    "def lower_case(text):\n",
    "    text_list = [item.lower() for item in text]\n",
    "    return text_list\n",
    "\n",
    "def preprocess(column):\n",
    "    corpus = []\n",
    "    for item in column:\n",
    "        if not isinstance(item, str):\n",
    "            item = str(item)\n",
    "        new_item = tokenization(item)\n",
    "        new_item = lower_case(new_item)\n",
    "        new_item = remove_stop_words(new_item)\n",
    "        new_item = lemmatized_text(new_item)\n",
    "        corpus.append(new_item)\n",
    "    return corpus\n",
    "\n",
    "data['processed'] = preprocess(data['tweet_text'])\n"
   ]
  },
  {
   "cell_type": "code",
   "execution_count": 35,
   "id": "9ceac3da",
   "metadata": {},
   "outputs": [],
   "source": [
    "data.processed = data.processed.apply(lambda x: ' '.join(x))"
   ]
  },
  {
   "cell_type": "markdown",
   "id": "349e704e",
   "metadata": {},
   "source": [
    "### LSTM"
   ]
  },
  {
   "cell_type": "code",
   "execution_count": 36,
   "id": "35cc2146",
   "metadata": {},
   "outputs": [
    {
     "data": {
      "text/html": [
       "<div>\n",
       "<style scoped>\n",
       "    .dataframe tbody tr th:only-of-type {\n",
       "        vertical-align: middle;\n",
       "    }\n",
       "\n",
       "    .dataframe tbody tr th {\n",
       "        vertical-align: top;\n",
       "    }\n",
       "\n",
       "    .dataframe thead th {\n",
       "        text-align: right;\n",
       "    }\n",
       "</style>\n",
       "<table border=\"1\" class=\"dataframe\">\n",
       "  <thead>\n",
       "    <tr style=\"text-align: right;\">\n",
       "      <th></th>\n",
       "      <th>tweet_text</th>\n",
       "      <th>is_there_an_emotion_directed_at_a_brand_or_product</th>\n",
       "      <th>processed</th>\n",
       "    </tr>\n",
       "  </thead>\n",
       "  <tbody>\n",
       "    <tr>\n",
       "      <th>0</th>\n",
       "      <td>.@wesley83 I have a 3G iPhone. After 3 hrs twe...</td>\n",
       "      <td>Negative emotion</td>\n",
       "      <td>wesley g iphone hr tweeting riseaustin dead ne...</td>\n",
       "    </tr>\n",
       "    <tr>\n",
       "      <th>1</th>\n",
       "      <td>@jessedee Know about @fludapp ? Awesome iPad/i...</td>\n",
       "      <td>Positive emotion</td>\n",
       "      <td>jessedee know fludapp awesome ipadiphone app y...</td>\n",
       "    </tr>\n",
       "    <tr>\n",
       "      <th>2</th>\n",
       "      <td>@swonderlin Can not wait for #iPad 2 also. The...</td>\n",
       "      <td>Positive emotion</td>\n",
       "      <td>swonderlin wait ipad also sale sxsw</td>\n",
       "    </tr>\n",
       "    <tr>\n",
       "      <th>3</th>\n",
       "      <td>@sxsw I hope this year's festival isn't as cra...</td>\n",
       "      <td>Negative emotion</td>\n",
       "      <td>sxsw hope year festival isnt crashy year iphon...</td>\n",
       "    </tr>\n",
       "    <tr>\n",
       "      <th>4</th>\n",
       "      <td>@sxtxstate great stuff on Fri #SXSW: Marissa M...</td>\n",
       "      <td>Positive emotion</td>\n",
       "      <td>sxtxstate great stuff fri sxsw marissa mayer g...</td>\n",
       "    </tr>\n",
       "    <tr>\n",
       "      <th>...</th>\n",
       "      <td>...</td>\n",
       "      <td>...</td>\n",
       "      <td>...</td>\n",
       "    </tr>\n",
       "    <tr>\n",
       "      <th>9088</th>\n",
       "      <td>Ipad everywhere. #SXSW {link}</td>\n",
       "      <td>Positive emotion</td>\n",
       "      <td>ipad everywhere sxsw link</td>\n",
       "    </tr>\n",
       "    <tr>\n",
       "      <th>9089</th>\n",
       "      <td>Wave, buzz... RT @mention We interrupt your re...</td>\n",
       "      <td>No emotion toward brand or product</td>\n",
       "      <td>wave buzz rt mention interrupt regularly sched...</td>\n",
       "    </tr>\n",
       "    <tr>\n",
       "      <th>9090</th>\n",
       "      <td>Google's Zeiger, a physician never reported po...</td>\n",
       "      <td>No emotion toward brand or product</td>\n",
       "      <td>google zeiger physician never reported potenti...</td>\n",
       "    </tr>\n",
       "    <tr>\n",
       "      <th>9091</th>\n",
       "      <td>Some Verizon iPhone customers complained their...</td>\n",
       "      <td>No emotion toward brand or product</td>\n",
       "      <td>verizon iphone customer complained time fell b...</td>\n",
       "    </tr>\n",
       "    <tr>\n",
       "      <th>9092</th>\n",
       "      <td>Ï¡Ïàü_ÊÎÒ£Áââ_£â_ÛâRT @...</td>\n",
       "      <td>No emotion toward brand or product</td>\n",
       "      <td>rt mention google test checkin offer sxsw link</td>\n",
       "    </tr>\n",
       "  </tbody>\n",
       "</table>\n",
       "<p>9093 rows × 3 columns</p>\n",
       "</div>"
      ],
      "text/plain": [
       "                                             tweet_text  \\\n",
       "0     .@wesley83 I have a 3G iPhone. After 3 hrs twe...   \n",
       "1     @jessedee Know about @fludapp ? Awesome iPad/i...   \n",
       "2     @swonderlin Can not wait for #iPad 2 also. The...   \n",
       "3     @sxsw I hope this year's festival isn't as cra...   \n",
       "4     @sxtxstate great stuff on Fri #SXSW: Marissa M...   \n",
       "...                                                 ...   \n",
       "9088                      Ipad everywhere. #SXSW {link}   \n",
       "9089  Wave, buzz... RT @mention We interrupt your re...   \n",
       "9090  Google's Zeiger, a physician never reported po...   \n",
       "9091  Some Verizon iPhone customers complained their...   \n",
       "9092  Ï¡Ïàü_ÊÎÒ£Áââ_£â_ÛâRT @...   \n",
       "\n",
       "     is_there_an_emotion_directed_at_a_brand_or_product  \\\n",
       "0                                      Negative emotion   \n",
       "1                                      Positive emotion   \n",
       "2                                      Positive emotion   \n",
       "3                                      Negative emotion   \n",
       "4                                      Positive emotion   \n",
       "...                                                 ...   \n",
       "9088                                   Positive emotion   \n",
       "9089                 No emotion toward brand or product   \n",
       "9090                 No emotion toward brand or product   \n",
       "9091                 No emotion toward brand or product   \n",
       "9092                 No emotion toward brand or product   \n",
       "\n",
       "                                              processed  \n",
       "0     wesley g iphone hr tweeting riseaustin dead ne...  \n",
       "1     jessedee know fludapp awesome ipadiphone app y...  \n",
       "2                   swonderlin wait ipad also sale sxsw  \n",
       "3     sxsw hope year festival isnt crashy year iphon...  \n",
       "4     sxtxstate great stuff fri sxsw marissa mayer g...  \n",
       "...                                                 ...  \n",
       "9088                          ipad everywhere sxsw link  \n",
       "9089  wave buzz rt mention interrupt regularly sched...  \n",
       "9090  google zeiger physician never reported potenti...  \n",
       "9091  verizon iphone customer complained time fell b...  \n",
       "9092     rt mention google test checkin offer sxsw link  \n",
       "\n",
       "[9093 rows x 3 columns]"
      ]
     },
     "execution_count": 36,
     "metadata": {},
     "output_type": "execute_result"
    }
   ],
   "source": [
    "data"
   ]
  },
  {
   "cell_type": "code",
   "execution_count": 11,
   "id": "64ed3e56",
   "metadata": {},
   "outputs": [],
   "source": [
    " \n",
    "# data.is_there_an_emotion_directed_at_a_brand_or_product.replace({'Negative emotion':0, 'Positive emotion':1,\n",
    "#        'No emotion toward brand or product':2, \"I can't tell\":3}, inplace=True)"
   ]
  },
  {
   "cell_type": "code",
   "execution_count": 37,
   "id": "e80d7022",
   "metadata": {},
   "outputs": [
    {
     "name": "stdout",
     "output_type": "stream",
     "text": [
      "object\n"
     ]
    }
   ],
   "source": [
    "print(data['is_there_an_emotion_directed_at_a_brand_or_product'].dtype)\n"
   ]
  },
  {
   "cell_type": "code",
   "execution_count": 13,
   "id": "aaa9fee2",
   "metadata": {},
   "outputs": [],
   "source": [
    "#Padding and tokenizing the preprocessed text\n",
    "from keras.preprocessing import text\n",
    "tokenizer = text.Tokenizer()\n",
    "tokenizer.fit_on_texts(list(data.processed))\n",
    "tokenized_text = tokenizer.texts_to_sequences(data['processed'])\n",
    "from keras.utils import pad_sequences\n",
    "\n",
    "#Splitting to x\n",
    "x = pad_sequences(tokenized_text, maxlen=100)"
   ]
  },
  {
   "cell_type": "code",
   "execution_count": 14,
   "id": "e78533d0",
   "metadata": {},
   "outputs": [
    {
     "data": {
      "text/plain": [
       "9528"
      ]
     },
     "execution_count": 14,
     "metadata": {},
     "output_type": "execute_result"
    }
   ],
   "source": [
    "len(tokenizer.word_index)"
   ]
  },
  {
   "cell_type": "code",
   "execution_count": 40,
   "id": "c7726721",
   "metadata": {},
   "outputs": [],
   "source": [
    "\n",
    "from sklearn.model_selection import train_test_split\n",
    "from keras.utils import to_categorical\n",
    "from sklearn.preprocessing import LabelEncoder\n",
    "#Label Ecnoding the target column\n",
    "le = LabelEncoder()\n",
    "encoded_labels = le.fit_transform(data.is_there_an_emotion_directed_at_a_brand_or_product)\n",
    "#Converting the label encoded target column to categorical using keras to match the data type\n",
    "#and splitting to y\n",
    "y_encoded = to_categorical(encoded_labels, num_classes=4)\n",
    "#Splitting to train and test sets\n",
    "x_train, x_test, y_train, y_test = train_test_split(x,y_encoded, test_size=0.2)\n",
    "     "
   ]
  },
  {
   "cell_type": "code",
   "execution_count": 99,
   "id": "b1858020",
   "metadata": {},
   "outputs": [],
   "source": [
    "#Modelling\n",
    "from keras.models import Sequential\n",
    "from keras.layers import Dense, LSTM, Embedding, SimpleRNN, Dropout\n",
    "\n",
    "model = Sequential()\n",
    "model.add(Embedding(input_dim=len(tokenizer.word_index) + 1, output_dim=128, input_length=100))\n",
    "model.add(LSTM(50, return_sequences=True)) \n",
    "model.add(Dropout(0.5))\n",
    "model.add(LSTM(30)) \n",
    "model.add(Dropout(0.5))\n",
    "model.add(Dense(50, activation='relu'))\n",
    "model.add(Dropout(0.5))\n",
    "model.add(Dense(4, activation='softmax'))"
   ]
  },
  {
   "cell_type": "code",
   "execution_count": 100,
   "id": "80ddb657",
   "metadata": {},
   "outputs": [],
   "source": [
    "model.compile(loss='categorical_crossentropy', optimizer='adam', metrics=['accuracy'])"
   ]
  },
  {
   "cell_type": "code",
   "execution_count": 101,
   "id": "3d62e6c3",
   "metadata": {},
   "outputs": [
    {
     "name": "stdout",
     "output_type": "stream",
     "text": [
      "Model: \"sequential_5\"\n",
      "_________________________________________________________________\n",
      " Layer (type)                Output Shape              Param #   \n",
      "=================================================================\n",
      " embedding_5 (Embedding)     (None, 100, 128)          1219712   \n",
      "                                                                 \n",
      " lstm_7 (LSTM)               (None, 100, 50)           35800     \n",
      "                                                                 \n",
      " dropout_14 (Dropout)        (None, 100, 50)           0         \n",
      "                                                                 \n",
      " lstm_8 (LSTM)               (None, 30)                9720      \n",
      "                                                                 \n",
      " dropout_15 (Dropout)        (None, 30)                0         \n",
      "                                                                 \n",
      " dense_12 (Dense)            (None, 50)                1550      \n",
      "                                                                 \n",
      " dropout_16 (Dropout)        (None, 50)                0         \n",
      "                                                                 \n",
      " dense_13 (Dense)            (None, 4)                 204       \n",
      "                                                                 \n",
      "=================================================================\n",
      "Total params: 1266986 (4.83 MB)\n",
      "Trainable params: 1266986 (4.83 MB)\n",
      "Non-trainable params: 0 (0.00 Byte)\n",
      "_________________________________________________________________\n"
     ]
    }
   ],
   "source": [
    "model.summary()"
   ]
  },
  {
   "cell_type": "code",
   "execution_count": 102,
   "id": "35ef6af3",
   "metadata": {},
   "outputs": [
    {
     "name": "stdout",
     "output_type": "stream",
     "text": [
      "Epoch 1/10\n",
      "205/205 [==============================] - 15s 68ms/step - loss: 1.0170 - accuracy: 0.5507 - val_loss: 0.8636 - val_accuracy: 0.6140\n",
      "Epoch 2/10\n",
      "205/205 [==============================] - 14s 66ms/step - loss: 0.8602 - accuracy: 0.6150 - val_loss: 0.8171 - val_accuracy: 0.6442\n",
      "Epoch 3/10\n",
      "205/205 [==============================] - 14s 66ms/step - loss: 0.6708 - accuracy: 0.7368 - val_loss: 0.8411 - val_accuracy: 0.6758\n",
      "Epoch 4/10\n",
      "205/205 [==============================] - 14s 67ms/step - loss: 0.5211 - accuracy: 0.8040 - val_loss: 0.8850 - val_accuracy: 0.6868\n",
      "Epoch 5/10\n",
      "205/205 [==============================] - 14s 67ms/step - loss: 0.4237 - accuracy: 0.8478 - val_loss: 0.9413 - val_accuracy: 0.6841\n",
      "Epoch 6/10\n",
      "205/205 [==============================] - 14s 67ms/step - loss: 0.3552 - accuracy: 0.8689 - val_loss: 1.2652 - val_accuracy: 0.6745\n",
      "Epoch 7/10\n",
      "205/205 [==============================] - 14s 67ms/step - loss: 0.3040 - accuracy: 0.8770 - val_loss: 1.2599 - val_accuracy: 0.6731\n",
      "Epoch 8/10\n",
      "205/205 [==============================] - 14s 67ms/step - loss: 0.2690 - accuracy: 0.8911 - val_loss: 1.5352 - val_accuracy: 0.6841\n",
      "Epoch 9/10\n",
      "205/205 [==============================] - 14s 67ms/step - loss: 0.2500 - accuracy: 0.8934 - val_loss: 1.6925 - val_accuracy: 0.6772\n",
      "Epoch 10/10\n",
      "205/205 [==============================] - 14s 67ms/step - loss: 0.2261 - accuracy: 0.9007 - val_loss: 1.9268 - val_accuracy: 0.6635\n"
     ]
    }
   ],
   "source": [
    "training_history = model.fit(x_train, y_train, epochs=10, validation_split=0.1)"
   ]
  },
  {
   "cell_type": "code",
   "execution_count": 103,
   "id": "6f0e0e52",
   "metadata": {},
   "outputs": [
    {
     "data": {
      "image/png": "[encoded data removed]",
      "text/plain": [
       "<Figure size 640x480 with 1 Axes>"
      ]
     },
     "metadata": {},
     "output_type": "display_data"
    }
   ],
   "source": [
    "#Plotting the accuracy\n",
    "import matplotlib.pyplot as plt\n",
    "epochs = [ x for x in range(1,11)]\n",
    "plt.plot(epochs, training_history.history['accuracy'], color='red')\n",
    "plt.xlabel(\"Epochs\")\n",
    "plt.ylabel(\"Training Accuracy\")\n",
    "plt.title(\"Visualisation of Training Accuracy\")\n",
    "plt.show()"
   ]
  },
  {
   "cell_type": "code",
   "execution_count": 104,
   "id": "0638f633",
   "metadata": {},
   "outputs": [
    {
     "data": {
      "text/plain": [
       "'.@wesley83 I have a 3G iPhone. After 3 hrs tweeting at #RISE_Austin, it was dead!  I need to upgrade. Plugin stations at #SXSW.'"
      ]
     },
     "execution_count": 104,
     "metadata": {},
     "output_type": "execute_result"
    }
   ],
   "source": [
    "data.tweet_text[0]"
   ]
  },
  {
   "cell_type": "code",
   "execution_count": 105,
   "id": "71c5a98f",
   "metadata": {},
   "outputs": [
    {
     "name": "stdout",
     "output_type": "stream",
     "text": [
      "57/57 [==============================] - 1s 15ms/step\n"
     ]
    }
   ],
   "source": [
    "#Predicting using the test set\n",
    "y_preds = model.predict(x_test)"
   ]
  },
  {
   "cell_type": "code",
   "execution_count": 106,
   "id": "848e54d9",
   "metadata": {},
   "outputs": [
    {
     "data": {
      "text/plain": [
       "array([[8.5344666e-04, 1.6506278e-03, 9.5608896e-01, 4.1406982e-02],\n",
       "       [4.6393916e-07, 2.1910937e-06, 9.9941170e-01, 5.8570784e-04],\n",
       "       [8.8968815e-04, 1.3358667e-03, 6.8745780e-01, 3.1031671e-01],\n",
       "       ...,\n",
       "       [1.7352344e-05, 4.8100072e-05, 9.8495793e-01, 1.4976642e-02],\n",
       "       [1.0492780e-04, 2.5833823e-04, 9.8528451e-01, 1.4352234e-02],\n",
       "       [2.0550858e-02, 9.7171438e-01, 6.6786730e-03, 1.0561754e-03]],\n",
       "      dtype=float32)"
      ]
     },
     "execution_count": 106,
     "metadata": {},
     "output_type": "execute_result"
    }
   ],
   "source": [
    "y_preds "
   ]
  },
  {
   "cell_type": "code",
   "execution_count": 107,
   "id": "44935a5f",
   "metadata": {},
   "outputs": [],
   "source": [
    "#Converting the probabilities to labels\n",
    "y_pred_labels = np.argmax(y_preds, axis=1)"
   ]
  },
  {
   "cell_type": "code",
   "execution_count": 108,
   "id": "d2df9b33",
   "metadata": {},
   "outputs": [],
   "source": [
    "#Finding the actual labels label encoded target column\n",
    "labels = le.inverse_transform(y_pred_labels)"
   ]
  },
  {
   "cell_type": "code",
   "execution_count": 109,
   "id": "9d415ba6",
   "metadata": {},
   "outputs": [
    {
     "data": {
      "text/plain": [
       "array(['No emotion toward brand or product',\n",
       "       'No emotion toward brand or product',\n",
       "       'No emotion toward brand or product', ...,\n",
       "       'No emotion toward brand or product',\n",
       "       'No emotion toward brand or product', 'Negative emotion'],\n",
       "      dtype=object)"
      ]
     },
     "execution_count": 109,
     "metadata": {},
     "output_type": "execute_result"
    }
   ],
   "source": [
    "labels"
   ]
  },
  {
   "cell_type": "code",
   "execution_count": 110,
   "id": "4ba8a7c2",
   "metadata": {},
   "outputs": [],
   "source": [
    "y_test_labels = np.argmax(y_test, axis=1)"
   ]
  },
  {
   "cell_type": "code",
   "execution_count": 111,
   "id": "bba02db4",
   "metadata": {},
   "outputs": [
    {
     "data": {
      "text/plain": [
       "0.6415612974161627"
      ]
     },
     "execution_count": 111,
     "metadata": {},
     "output_type": "execute_result"
    }
   ],
   "source": [
    "#Accuracy Score \n",
    "from sklearn.metrics import accuracy_score\n",
    "accuracy_score(y_test_labels, y_pred_labels)"
   ]
  },
  {
   "cell_type": "code",
   "execution_count": null,
   "id": "d7c9d23d",
   "metadata": {},
   "outputs": [],
   "source": [
    "\n",
    "\n"
   ]
  }
 ],
 "metadata": {
  "kernelspec": {
   "display_name": "Python 3 (ipykernel)",
   "language": "python",
   "name": "python3"
  },
  "language_info": {
   "codemirror_mode": {
    "name": "ipython",
    "version": 3
   },
   "file_extension": ".py",
   "mimetype": "text/x-python",
   "name": "python",
   "nbconvert_exporter": "python",
   "pygments_lexer": "ipython3",
   "version": "3.10.10"
  }
 },
 "nbformat": 4,
 "nbformat_minor": 5
}
